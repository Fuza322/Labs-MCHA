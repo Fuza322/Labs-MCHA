{
 "cells": [
  {
   "cell_type": "markdown",
   "metadata": {},
   "source": [
    "# Лабороторная работа № 1"
   ]
  },
  {
   "cell_type": "markdown",
   "metadata": {},
   "source": [
    "## Решение краевой задачи методом разностных апроксимаций"
   ]
  },
  {
   "cell_type": "markdown",
   "metadata": {},
   "source": [
    "### Цель:###"
   ]
  },
  {
   "cell_type": "markdown",
   "metadata": {},
   "source": [
    "1) Изучить метод разностных аппроксимаций, составить алгоритм метода и программу их реализации, получить численное решение заданной краевой задачи;\n",
    "\n",
    "2) Составить алгоритм решения краевых задач указанными методами, применимыми для организации вычислений на ПЭВМ;\n",
    "\n",
    "3) Составить программу решения краевых задач по разработанному алгоритму;\n",
    "\n",
    "4) Выполнить тестовые примеры и проверить правильность работы программ."
   ]
  },
  {
   "cell_type": "markdown",
   "metadata": {},
   "source": [
    "### Теория: ###"
   ]
  },
  {
   "cell_type": "markdown",
   "metadata": {},
   "source": [
    "### Что такое краевая задача? ###\n",
    "**Краевая задача (граничная задача)** — задача о нахождении решения заданного дифференциального уравнения (или системы дифференциальных уравнений), удовлетворяющего краевым (граничным) условиям в концах интервала или на границе области.\n",
    "\n",
    "Краевые(граничные условия) имеют следующий вид:\n",
    "![](https://sun9-29.userapi.com/c851424/v851424789/1ec2f2/mtM_gSM1F6k.jpg)\n",
    "\n",
    "где **А** и **В** — границы интервала, на котором определены значение функции.\n",
    "\n",
    "### Разностный метод решения краевых задач: ###\n",
    "\n",
    "Рассмотрим следующую краевую задачу:\n",
    "![](https://sun9-13.userapi.com/c851424/v851424789/1ec2f9/TIdh_MrRBR0.jpg)\n",
    "\n",
    "Чтобы аппроксимировать (приблизить) решение необходимо разбить интервал [a,b] на **n** одинаковых частей с шагом **h**.\n",
    "\n",
    "Величина шага (**h**) вычисляется по следующей формуле:\n",
    "![](https://sun9-13.userapi.com/c851424/v851424789/1ec300/oF73YIQ2-oo.jpg)\n",
    "\n",
    "Находим **y'** и **y''** с помощью следующей замены:\n",
    "![](https://sun9-17.userapi.com/c851424/v851424789/1ec307/lh89_ji1PQA.jpg)\n",
    "\n",
    "Потом получаем трёхдиагональную систему, состоящих из линейных уравнений имеющих вид:\n",
    "![](https://sun9-63.userapi.com/c851424/v851424789/1ec30e/DPcJJx26MiQ.jpg)   **(1)**\n",
    "\n",
    "Записываем полученную систему в виде трёхдиагональный матрицы:\n",
    "![](http://pcfu.ru/wp-content/uploads/2009/07/f1.gif)\n",
    "\n",
    "где **А<sub>i</sub>**,**В<sub>i</sub>**,**С<sub>i</sub>** — коэффициенты уравнения **(1)**\n",
    "\n",
    "Находим решение краевой задачи, решая трёхдиагональную матрицу."
   ]
  },
  {
   "cell_type": "code",
   "execution_count": 1,
   "metadata": {},
   "outputs": [],
   "source": [
    "import matplotlib.pyplot as plt\n",
    "import numpy as np\n",
    "import math"
   ]
  },
  {
   "cell_type": "markdown",
   "metadata": {},
   "source": [
    "## Крайние точки интервала, количество точек n и константа k"
   ]
  },
  {
   "cell_type": "code",
   "execution_count": 2,
   "metadata": {},
   "outputs": [],
   "source": [
    "k = 2\n",
    "n = 1\n",
    "x_a = -1\n",
    "x_b = 1"
   ]
  },
  {
   "cell_type": "markdown",
   "metadata": {},
   "source": [
    "## Функция для создания системы "
   ]
  },
  {
   "cell_type": "code",
   "execution_count": 3,
   "metadata": {},
   "outputs": [],
   "source": [
    "def system_creation(n, h, a_f, b_f):\n",
    "    xi_list = [x_a + (h * i) for i in range(n + 1)]\n",
    "    matrix = np.zeros((n - 1, n - 1))\n",
    "    vector = np.linspace(-h * h, -h * h, n - 1)\n",
    "    ##################\n",
    "    for i in range(n - 1):\n",
    "        line = np.linspace(0, 0, n - 1)\n",
    "        a = a_f(xi_list[i + 1])\n",
    "        b = b_f(xi_list[i + 1])\n",
    "        if i == 0:\n",
    "            line[i:i + 2] = np.array([-(2 * a - (1 + b * (xi_list[i + 1] ** 2)) * h ** 2), a])\n",
    "        elif i == (n - 2):\n",
    "            line[i - 1:i + 1] = np.array([a, -(2 * a - (1 + b * (xi_list[i + 1] ** 2)) * h ** 2)])\n",
    "        else:\n",
    "            line[i - 1:i + 2] = np.array([a, -(2 * a - (1 + b * (xi_list[i + 1] ** 2)) * h ** 2), a])\n",
    "        matrix[i, :] = line\n",
    "\n",
    "    return matrix, vector, xi_list"
   ]
  },
  {
   "cell_type": "markdown",
   "metadata": {},
   "source": [
    "## Решение системы с помощью  numpy "
   ]
  },
  {
   "cell_type": "code",
   "execution_count": 4,
   "metadata": {},
   "outputs": [],
   "source": [
    "def solve(matrix, vector, n):\n",
    "    result = np.zeros(n + 1)\n",
    "    result[1: n] = np.linalg.solve(matrix, vector)\n",
    "    return result"
   ]
  },
  {
   "cell_type": "markdown",
   "metadata": {},
   "source": [
    "## Функция решения системы и построения графиков"
   ]
  },
  {
   "cell_type": "code",
   "execution_count": 5,
   "metadata": {},
   "outputs": [],
   "source": [
    "def solution_of_system(n, a_f, b_f):\n",
    "    for i in range(1, 10):\n",
    "        n = n + 2\n",
    "        h = (x_b - x_a) / n\n",
    "        matrix, vector, X1 = system_creation(n, h, a_f, b_f)\n",
    "        Y1 = solve(matrix, vector, n)\n",
    "        plt.plot(X1, Y1)\n",
    "        #print(matrix)\n",
    "        #print(vector)\n",
    "    plt.show()"
   ]
  },
  {
   "cell_type": "markdown",
   "metadata": {},
   "source": [
    "## Решение задание № 1"
   ]
  },
  {
   "cell_type": "code",
   "execution_count": null,
   "metadata": {},
   "outputs": [],
   "source": [
    "solution_of_system(n, lambda x=1: 1, lambda x=1: 1)\n",
    "    plt.show()"
   ]
  },
  {
   "cell_type": "markdown",
   "metadata": {},
   "source": [
    "![](https://sun9-20.userapi.com/c851128/v851128562/1f4efb/x-S78k2TjsE.jpg)"
   ]
  },
  {
   "cell_type": "markdown",
   "metadata": {},
   "source": [
    "## Решение задание № 2 "
   ]
  },
  {
   "cell_type": "code",
   "execution_count": null,
   "metadata": {},
   "outputs": [],
   "source": [
    "solution_of_system(n, lambda x: math.sin(k), lambda x: math.cos(k))\n",
    "plt.show()"
   ]
  },
  {
   "cell_type": "markdown",
   "metadata": {},
   "source": [
    "![](https://sun9-34.userapi.com/c851128/v851128562/1f4f30/rFb9bHYCKnI.jpg)"
   ]
  },
  {
   "cell_type": "markdown",
   "metadata": {},
   "source": [
    "## Решение задание № 2 (с номером варианта k) (х = х * k)"
   ]
  },
  {
   "cell_type": "code",
   "execution_count": null,
   "metadata": {},
   "outputs": [],
   "source": [
    "solution_of_system(n, lambda x: math.sin(k * x), lambda x: math.cos(k * x))\n",
    "plt.show()"
   ]
  },
  {
   "cell_type": "markdown",
   "metadata": {},
   "source": [
    "![](https://sun9-7.userapi.com/c851128/v851128562/1f4f37/28OyEJTWyRc.jpg)"
   ]
  }
 ],
 "metadata": {
  "kernelspec": {
   "display_name": "Python 3",
   "language": "python",
   "name": "python3"
  },
  "language_info": {
   "codemirror_mode": {
    "name": "ipython",
    "version": 3
   },
   "file_extension": ".py",
   "mimetype": "text/x-python",
   "name": "python",
   "nbconvert_exporter": "python",
   "pygments_lexer": "ipython3",
   "version": "3.6.8"
  }
 },
 "nbformat": 4,
 "nbformat_minor": 2
}
