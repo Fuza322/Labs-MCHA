{
 "cells": [
  {
   "cell_type": "markdown",
   "metadata": {},
   "source": [
    "# Лабораторная работа №2 #\n",
    "\n",
    "## Решение краевых задач. Методы коллокаций, наименьших квадратов и Галеркина ##\n",
    "\n",
    "### Цель: ###\n",
    "\n",
    "1) Изучить методы коллокаций, наименьших квадратов и Галеркина, составить алгоритмы методов и программы их реализаций, получить численное решение заданной краевой задачи.\n",
    "\n",
    "2) Составить алгоритм решения краевых задач указанными методами, применимыми для органиации вычислений на ПЭВМ.\n",
    "\n",
    "3) Составить программу решения краевых задач по разработанным алгоритмам.\n",
    "\n",
    "4) Выполнить тестовые примеры и проверить правильность работы программ."
   ]
  },
  {
   "cell_type": "markdown",
   "metadata": {},
   "source": [
    "## Постановка задачи: ##\n",
    "\n",
    "Получить численное решение краевой задачи, используя дискретный и интегральный методы наименьших квадратов, метод коллокаций и метод Галёркина.\n",
    "\n",
    "### Условие задач: ###\n",
    "\n",
    "1) ![](https://sun9-59.userapi.com/c858032/v858032129/b6e8f/PdTALKfogbI.jpg)\n",
    "\n",
    "2) ![](https://sun9-40.userapi.com/c857020/v857020129/1a839/YZ7EcBf9qsk.jpg)\n",
    "\n",
    "### Исходные данные: ###\n",
    "\n",
    "![](https://sun9-31.userapi.com/c858024/v858024129/b9e6d/m-5KJ4JlpsU.jpg)\n",
    "\n",
    "Базисную систему выбрать следующим образом:\n",
    "\n",
    "![](https://sun9-30.userapi.com/c858024/v858024255/bde3f/-5-AMduiFK0.jpg)"
   ]
  },
  {
   "cell_type": "markdown",
   "metadata": {},
   "source": [
    "## Теория: ##\n",
    "\n",
    "Пусть имеется дифференциальное уравнение второго порядка:\n",
    "\n",
    "![](https://sun9-21.userapi.com/c857236/v857236500/1a002/WROA_f48YYg.jpg)\n",
    "\n",
    "![](https://sun9-60.userapi.com/c857236/v857236500/1a00a/sGnoPLoUf6I.jpg)\n",
    "\n",
    "**Краевая задача** - это задача о нахождении решения дифференциального уравнения (или системы дифференциальных уравнений), удовлетворяющим краевым (граничным) условиям)\n",
    "\n",
    "**Краевые (граничные) условия** выглядят следующим образом:\n",
    "![](https://sun9-38.userapi.com/c857236/v857236500/1a018/YM3yparJv5g.jpg)\n",
    "\n",
    "Особеностью краевой задачи является её непредсказуемость. Так как решение может существовать, или не существовать, быть единственным, или же может быть бесконечно множество решений.\n",
    "\n",
    "**Однородные граничные условия** - это граничные условия, в которых ***А = B = 0***.\n",
    "\n",
    "Соотвественно краевая задача называется ***однородной***, если у неё однородные граничные условия и правая часть уравнения ***f(x) ≡ 0***.\n",
    "\n",
    "**Теорема**. Краевая задача имеет решение, причем единственное, тогда и только тогда, когда соответствующая ей однородная краевая имеет только нулевое решение (тривиальное решение однородной краевой задачи).\n",
    "\n",
    "Система дважды непрерывно дифференцируемых функций\n",
    "***φ<sub>0</sub>(x), φ<sub>1</sub>(x),..., φ<sub>n</sub>(x)*** называется **базисной системой**, если выполняется следующее:\n",
    "\n",
    "1) ***φ<sub>0</sub>(x)*** удовлетворяет граничному условию.\n",
    "\n",
    "2) функции ***φ<sub>1</sub>(x),..., φ<sub>n</sub>(x)*** − линейно независимы на **[a,b]** и удовлетворяют однородным граничным условиям.\n",
    "\n",
    "Тогда по базисным функциям строят приближенное решение в виде линейной комбинации базисных функций:\n",
    "\n",
    "![](https://sun9-21.userapi.com/c858024/v858024255/bde67/5iPIKDMRoDo.jpg)\n",
    "\n",
    "Задача сводится к выбору коэффициентов ***a<sub>1</sub>,...,a<sub>n</sub>*** таких, чтобы функция\n",
    "***y<sub>n</sub>(x)*** удовлетворяла граничному условию и была в некотором смысле близкой к\n",
    "точному решению.\n",
    "\n",
    "Поступают следующим образом. \n",
    "\n",
    "Используют выражение, называемое ***невзякой***:\n",
    "\n",
    "![](https://sun9-59.userapi.com/c851228/v851228314/1f4a52/7DACugRddeY.jpg)\n",
    "\n",
    "Если ***ψ(x,a<sub>1</sub>,...,a<sub>n</sub>) ≡ 0*** , то ***y<sub>n</sub>(x)*** является точным решением."
   ]
  },
  {
   "cell_type": "markdown",
   "metadata": {},
   "source": [
    "## Основные методы решения краевой задачи: ##\n",
    "\n",
    "Поскольку конкретные аналитические методы решения краевых\n",
    "задач отсутствуют, то используются приближенные методы.\n",
    "\n",
    "### Метод коллокаций ###\n",
    "\n",
    "1) На отрезке **[a,b]** выбираются точки ***х<sub>1</sub>,...,x<sub>m</sub>*** **∈ [a,b]; (m ≥ n)**, которые называются ***точками коллокации***. Точки коллокации последовательно подставляются в невязку.\n",
    "\n",
    "2) Строим систему уравнений для определения коэффициентов ***a<sub>1</sub>,...,a<sub>n</sub>***, считая, что невязка должна быть равна нулю ( ***ψ(x,a<sub>1</sub>,...,a<sub>n</sub>) ≡ 0*** )\n",
    "\n",
    "Обычно ***m = n***. Получается система из ***n*** линейных уравнений с ***n*** неизвестными (коэффициентами ***a<sub>1</sub>,...,a<sub>n</sub>***):\n",
    "\n",
    "![](https://sun9-57.userapi.com/c857136/v857136314/19f6b/0X6H314iG9U.jpg)\n",
    "\n",
    "3) Решая эту систему найдем приближенное решение ***y<sub>n</sub>(x)***.\n",
    "\n",
    "Для повышения точности расширяем систему базисных функций. В значительной степени успех в применении метода зависит от удачного выбора базисной системы.\n",
    "\n",
    "### Интегральный метод наименьших квадратов: ###\n",
    "\n",
    "Как и в методе коллокаций, приближенное решение строится по базисной системе.\n",
    "\n",
    "1) Строим систему уравнений для определения коэффициентов ***a<sub>1</sub>,...,a<sub>n</sub>***, считая, что невязка должна быть равна нулю ( ***ψ(x,a<sub>1</sub>,...,a<sub>n</sub>) ≡ 0*** )\n",
    "\n",
    "![](https://sun9-68.userapi.com/c855420/v855420314/12c8fa/fZ1AcsvZBuQ.jpg)\n",
    "\n",
    "Для нахождения минимума интеграла вычисляем первые производные\n",
    "от интеграла по параметрам и приравнивая их нулю.\n",
    "\n",
    "2) Строим систему нормалных уравнений:\n",
    "\n",
    "![](https://sun9-44.userapi.com/c855420/v855420096/13012b/-3qQ1ocSkHs.jpg)\n",
    "\n",
    "3) Решаем систему и находим ***a<sub>1</sub>,...,a<sub>n</sub>***.\n",
    "\n",
    "### Дискретный метод наименьших квадратов: ###\n",
    "\n",
    "1) Выбираем ***N > n*** точек и решаем следующую задачу:\n",
    "\n",
    "![](https://sun9-32.userapi.com/c858420/v858420096/bbf64/kwyW0pfL7OA.jpg)\n",
    "\n",
    "2) Cтроим систему для решения задачи пункта **№1**:\n",
    "\n",
    "![](https://sun9-17.userapi.com/c858420/v858420096/bbf6b/5uF_qAJL9K4.jpg)\n",
    "\n",
    "### Метод Галеркина ###\n",
    "\n",
    "1) По базисной системе строим приближённое решение:\n",
    "\n",
    "![](https://sun9-49.userapi.com/c857616/v857616349/b91a5/dgCLpkiHLv4.jpg)\n",
    "\n",
    "2) Строим систему для определения коэффициентов при базисных функциях, рассматривая невязку ***ψ(x,a<sub>1</sub>,...,a<sub>n</sub>)***:\n",
    "\n",
    "![](https://sun9-70.userapi.com/c857616/v857616349/b91b6/H5rf6iykNqM.jpg)\n",
    "\n",
    "3) Решаем систему и находим ***a<sub>1</sub>,...,a<sub>n</sub>***."
   ]
  },
  {
   "cell_type": "markdown",
   "metadata": {},
   "source": [
    "## Программная реализация ##"
   ]
  },
  {
   "cell_type": "markdown",
   "metadata": {},
   "source": [
    "### Метод коллокаций: ###"
   ]
  },
  {
   "cell_type": "code",
   "execution_count": null,
   "metadata": {},
   "outputs": [],
   "source": [
    "def collation(collation_point):\n",
    "    matrix = []\n",
    "    start = timer()\n",
    "    b = []\n",
    "    for x in collation_point:\n",
    "        matrix.append([sum(c[j](x)*df_dx[j](f[i], x) for j in range(3)) for i in range(1, n)])\n",
    "        b.append(c0(x)-sum(c[j](x)*df_dx[j](f[0], x) for j in range(3)))\n",
    "    sol = np.linalg.solve(np.array(matrix), np.array(b))\n",
    "    # print(sol)\n",
    "    end = timer()\n",
    "    result = end - start\n",
    "    print(\"Метод коллокаций: {0} секунд.\".format(result))\n",
    "    return lambda x: f[0](x) + sum(sol[i]*f[i+1](x) for i in range(n-1))"
   ]
  },
  {
   "cell_type": "markdown",
   "metadata": {},
   "source": [
    "### Метод Галёркина: ###"
   ]
  },
  {
   "cell_type": "code",
   "execution_count": null,
   "metadata": {},
   "outputs": [],
   "source": [
    "def galerkin():\n",
    "    matrix = [[integration(lambda x: part(j)(x)*f[i](x), a0, b0) for j in range(1, n)] for i in range(1, n)]\n",
    "    start = timer()\n",
    "    #print(matrix)\n",
    "    b = [integration(lambda x: (c0(x)-part(0)(x))*f[i](x), a0, b0) for i in range(1, n)]\n",
    "    #print(b)\n",
    "    sol = np.linalg.solve(np.array(matrix), np.array(b))\n",
    "    #print(sol)\n",
    "    end = timer()\n",
    "    result = end - start\n",
    "    print(\"Метод Галёркина: {0} секунд.\".format(result))\n",
    "    return lambda x: f[0](x) + sum(sol[i]*f[i+1](x) for i in range(n-1))"
   ]
  },
  {
   "cell_type": "markdown",
   "metadata": {},
   "source": [
    "### МНК (дискретный): ### "
   ]
  },
  {
   "cell_type": "code",
   "execution_count": null,
   "metadata": {},
   "outputs": [],
   "source": [
    "def mnk_discr(points):\n",
    "    matrix = np.zeros((n-1, n-1))\n",
    "    start = timer()\n",
    "    b = np.zeros(n-1)\n",
    "    for i in range(1, n):\n",
    "        for j in range(1, n):\n",
    "            der = lambda x: part(i)(x)*part(j)(x)\n",
    "            matrix[i-1][j-1] = sum(der(x) for x in points)\n",
    "        der = lambda x: (c0(x)-part(0)(x))*part(i)(x)\n",
    "        b[i-1] = sum(der(x) for x in points)\n",
    "    #print(matrix)\n",
    "    #print(b)\n",
    "    sol = np.linalg.solve(np.array(matrix), np.array(b))\n",
    "    #print(sol)\n",
    "    end = timer()\n",
    "    result = end - start\n",
    "    print(\"Дискретный метод наименьших квадратов: {0} секунд.\".format(result))\n",
    "    return lambda x: f[0](x) + sum(sol[i]*f[i+1](x) for i in range(n-1))"
   ]
  },
  {
   "cell_type": "markdown",
   "metadata": {},
   "source": [
    "### МНК (интегральный): ###"
   ]
  },
  {
   "cell_type": "code",
   "execution_count": null,
   "metadata": {},
   "outputs": [],
   "source": [
    "def mnk_int():\n",
    "    matrix = [[integration(lambda x: part(i)(x)*part(j)(x), a0, b0)for j in range(1, n)]for i in range(1, n)]\n",
    "    start = timer()\n",
    "    b = [integration(lambda x: (c0(x)-part(0)(x))*part(i)(x), a0, b0) for i in range(1, n)]\n",
    "\t# print(matrix)\n",
    "\t# print(b)\n",
    "    sol = np.linalg.solve(np.array(matrix), np.array(b))\n",
    "    # print(sol)\n",
    "    end = timer()\n",
    "    result = end - start\n",
    "    print(\"Интегральный метод наименьших квадратов: {0} секунд.\".format(result))\n",
    "    return lambda x: f[0](x) + sum(sol[i]*f[i+1](x) for i in range(n-1))"
   ]
  },
  {
   "cell_type": "markdown",
   "metadata": {},
   "source": [
    "### Вывод результатов и построение графиков: ###"
   ]
  },
  {
   "cell_type": "code",
   "execution_count": null,
   "metadata": {},
   "outputs": [],
   "source": [
    "x = np.arange(a0, b0+0.01, 0.01)\n",
    "plt.plot(x, mnk_int()(x), 'g')\n",
    "plt.show()\n",
    "plt.plot(x, collation(np.linspace(a0, b0, n-1))(x), 'r')\n",
    "plt.show()\n",
    "plt.plot(x, mnk_discr(np.linspace(a0, b0, n + 2))(x), 'y')\n",
    "plt.show()\n",
    "plt.plot(x, galerkin()(x), 'b')\n",
    "plt.show()"
   ]
  },
  {
   "cell_type": "markdown",
   "metadata": {},
   "source": [
    "### Графики: ###\n",
    "### Задание №1 ###\n",
    "![](https://sun9-72.userapi.com/c855436/v855436778/16d139/UBTRiJzSvK0.jpg)\n",
    "![](https://sun9-57.userapi.com/c855436/v855436778/16d141/thQPVtIVDMs.jpg)\n",
    "![](https://sun9-9.userapi.com/c855436/v855436778/16d150/qWGbQ_IWQGE.jpg)\n",
    "![](https://sun9-39.userapi.com/c855436/v855436778/16d157/uwTH3alzFFs.jpg)"
   ]
  },
  {
   "cell_type": "code",
   "execution_count": null,
   "metadata": {},
   "outputs": [],
   "source": []
  }
 ],
 "metadata": {
  "kernelspec": {
   "display_name": "Python 3",
   "language": "python",
   "name": "python3"
  },
  "language_info": {
   "codemirror_mode": {
    "name": "ipython",
    "version": 3
   },
   "file_extension": ".py",
   "mimetype": "text/x-python",
   "name": "python",
   "nbconvert_exporter": "python",
   "pygments_lexer": "ipython3",
   "version": "3.6.8"
  }
 },
 "nbformat": 4,
 "nbformat_minor": 2
}
